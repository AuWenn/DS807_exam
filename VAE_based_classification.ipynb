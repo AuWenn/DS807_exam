{
 "cells": [
  {
   "cell_type": "markdown",
   "metadata": {},
   "source": [
    "### Classification model based on VAE-compressed images \n",
    "\n",
    "**Step 1**: Load data and get encoder running"
   ]
  },
  {
   "cell_type": "code",
   "execution_count": 1,
   "metadata": {},
   "outputs": [
    {
     "name": "stderr",
     "output_type": "stream",
     "text": [
      "/Users/augustwennerwald/anaconda3/envs/amlfall23/lib/python3.10/site-packages/tqdm/auto.py:21: TqdmWarning: IProgress not found. Please update jupyter and ipywidgets. See https://ipywidgets.readthedocs.io/en/stable/user_install.html\n",
      "  from .autonotebook import tqdm as notebook_tqdm\n"
     ]
    }
   ],
   "source": [
    "# Tensorflow \n",
    "import tensorflow_datasets as tfds \n",
    "import tensorflow as tf \n",
    "\n",
    "# Additional\n",
    "from matplotlib import pyplot as plt \n",
    "import numpy as np\n",
    "from sklearn.metrics import mean_squared_error\n",
    "import random"
   ]
  },
  {
   "cell_type": "code",
   "execution_count": 11,
   "metadata": {},
   "outputs": [],
   "source": [
    "d1, d2, d3 = tfds.load('patch_camelyon', split=[f'train[:100%]',f'test[:100%]',f'validation[:100%]'],\n",
    "                          data_dir='./Data/PCAM/', \n",
    "                          download=False, \n",
    "                          shuffle_files=True, \n",
    "                          read_config=tfds.ReadConfig(shuffle_seed=42))\n",
    "\n",
    "# Training data\n",
    "d1_a, d1_b = d1.take(len(d1)//2), d1.skip(len(d1)//2)\n",
    "\n",
    "# Test data \n",
    "d2_a, d2_b = d2.take(len(d2)//2), d2.skip(len(d2)//2)\n",
    "\n",
    "# Valditation data \n",
    "d3_a, d3_b = d3.take(len(d3)//2), d3.skip(len(d3)//2)"
   ]
  },
  {
   "cell_type": "code",
   "execution_count": 12,
   "metadata": {},
   "outputs": [],
   "source": [
    "def convert_sample(sample):\n",
    "    image, label = sample['image'], sample['label']\n",
    "    image = tf.image.convert_image_dtype(image, tf.float32)\n",
    "    label = tf.one_hot(label, 2, dtype=tf.float32)\n",
    "    return image, label\n",
    "\n",
    "# a = autoencoder, b = classfier\n",
    "d1_a, d1_b = d1_a.map(lambda x: convert_sample(x)[0]).batch(128), d1_b.map(convert_sample).batch(128)\n",
    "d2_a, d2_b = d2_a.map(lambda x: convert_sample(x)[0]).batch(128), d2_b.map(convert_sample).batch(128)\n",
    "d3_a, d3_b = d3_a.map(lambda x: convert_sample(x)[0]).batch(128), d3_b.map(convert_sample).batch(128)"
   ]
  },
  {
   "cell_type": "code",
   "execution_count": 13,
   "metadata": {},
   "outputs": [],
   "source": [
    "# Load encoder and freeze weights \n",
    "\n",
    "# set latent dimesion to 18 later on \n",
    "latent_dim = 16\n",
    "\n",
    "encoder = tf.keras.models.Sequential([\n",
    "    tf.keras.layers.Conv2D(64, kernel_size= 3, strides = 1, padding='same', activation='relu', input_shape=(96, 96, 3)),\n",
    "    tf.keras.layers.Conv2D(128, kernel_size=3, strides= 2, padding='same', activation='relu'),\n",
    "    tf.keras.layers.Conv2D(256, kernel_size=3, strides= 2, padding='same', activation='relu'),\n",
    "    tf.keras.layers.Flatten(),\n",
    "    tf.keras.layers.Dense(2 * latent_dim), # 2 since we encode mean and standard deviation\n",
    "])"
   ]
  }
 ],
 "metadata": {
  "kernelspec": {
   "display_name": "amlfall23",
   "language": "python",
   "name": "python3"
  },
  "language_info": {
   "codemirror_mode": {
    "name": "ipython",
    "version": 3
   },
   "file_extension": ".py",
   "mimetype": "text/x-python",
   "name": "python",
   "nbconvert_exporter": "python",
   "pygments_lexer": "ipython3",
   "version": "3.10.13"
  }
 },
 "nbformat": 4,
 "nbformat_minor": 2
}
