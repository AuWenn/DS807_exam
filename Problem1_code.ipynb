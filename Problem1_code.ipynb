{
 "cells": [
  {
   "cell_type": "markdown",
   "metadata": {},
   "source": [
    "# Problem 1: PatchCamelyon\n",
    "*Course*: DS807 \\\n",
    "*Authors*: August E. Wennerwald, Kasper Lin Hannberg, Oliver Klejst, Søren Pico, Thomas Fischer\n",
    "\n",
    "## Modules and data"
   ]
  },
  {
   "cell_type": "code",
   "execution_count": 4,
   "metadata": {},
   "outputs": [],
   "source": [
    "# -- MODULES -- #\n",
    "\n",
    "# Tensorflow\n",
    "import tensorflow_datasets as tfds\n",
    "import tensorflow as tf\n",
    "from tensorflow.keras.applications.resnet50 import ResNet50\n",
    "\n",
    "# Additional\n",
    "from matplotlib import pyplot as plt\n",
    "import numpy as np\n",
    "from sklearn.metrics import mean_squared_error\n",
    "import random\n",
    "from tqdm import tqdm\n",
    "\n",
    "# -- DIRECTORY -- # \n",
    "wd = './'"
   ]
  },
  {
   "cell_type": "code",
   "execution_count": 2,
   "metadata": {},
   "outputs": [],
   "source": [
    "# NOTE: un-comment if run in google colab\n",
    "\n",
    "# from google.colab import drive\n",
    "# drive.mount('/content/drive')\n",
    "# wd = /content/drive/My Drive/DS807 (AML)\n",
    "# print(\"Num GPUs Available: \", len(tf.config.experimental.list_physical_devices('GPU')))"
   ]
  },
  {
   "cell_type": "code",
   "execution_count": 17,
   "metadata": {},
   "outputs": [],
   "source": [
    "# -- LOAD DATA -- # \n",
    "\n",
    "# AE, VAE\n",
    "d1a, d2a, d3a = tfds.load('patch_camelyon', split=[f'train[50%:]',f'test[50%:]',f'validation[50%:]'],\n",
    "                          data_dir=wd+'DATA/PCAM',\n",
    "                          download=False,\n",
    "                          shuffle_files=True)\n",
    "\n",
    "# Classification \n",
    "d1b, d2b, d3b = tfds.load('patch_camelyon', split=[f'train[:50%]',f'test[:50%]',f'validation[:50%]'],\n",
    "                          data_dir=wd+'DATA/PCAM',\n",
    "                          download=False,\n",
    "                          shuffle_files=True)\n",
    "\n",
    "\n",
    "# Convert data to (x,y)-format \n",
    "def convert_sample(sample):\n",
    "    image, label = sample['image'], sample['label']\n",
    "    image = tf.image.convert_image_dtype(image, tf.float32)\n",
    "    label = tf.one_hot(label, 2, dtype=tf.float32)\n",
    "    return image, label\n",
    "\n",
    "# AE, VAE\n",
    "train_images_a = d1a.map(lambda x: convert_sample(x)[0]).batch(128)\n",
    "validation_images_a = d3a.map(lambda x: convert_sample(x)[0]).batch(128)\n",
    "test_images_a = d2a.map(lambda x: convert_sample(x)[0]).batch(128)\n",
    "\n",
    "# Classification \n",
    "train_data_b = d1b.map(convert_sample).batch(64)\n",
    "validation_data_b = d3b.map(convert_sample).batch(64)\n",
    "test_data_b = d2b.map(convert_sample).batch(64)"
   ]
  },
  {
   "cell_type": "code",
   "execution_count": 36,
   "metadata": {},
   "outputs": [],
   "source": [
    "# -- ADDITIONAL -- #\n",
    "\n",
    "# Function for freezing parameters of input model \n",
    "def freeze_model_parameters(model): \n",
    "    for l in model.layers: \n",
    "        l.trainable = False\n",
    "\n",
    "# Function for generating plots of traning history \n",
    "def plot_training_hist(hist):\n",
    "  fig = plt.figure(figsize=plt.figaspect(0.1 * 2))\n",
    "\n",
    "  ax = fig.add_subplot(1, 2, 1)\n",
    "  ax.plot(hist.history['val_loss'], label='Validation loss')\n",
    "  ax.plot(hist.history['loss'], label='Training loss')\n",
    "\n",
    "\n",
    "  plt.xlabel('Epoch')\n",
    "  plt.ylabel('Loss')\n",
    "  plt.legend()\n",
    "\n",
    "  ax = fig.add_subplot(1, 2, 2)\n",
    "  ax.plot(hist.history['val_accuracy'], label='Validation accuracy')\n",
    "  ax.plot(hist.history['accuracy'], label='Training accuracy')\n",
    "  plt.xlabel('Epoch')\n",
    "  plt.ylabel('Accuracy')\n",
    "  plt.legend()"
   ]
  },
  {
   "cell_type": "markdown",
   "metadata": {},
   "source": [
    "## Baseline CNN models"
   ]
  },
  {
   "cell_type": "code",
   "execution_count": null,
   "metadata": {},
   "outputs": [],
   "source": [
    "# NOTE Søren kode"
   ]
  },
  {
   "cell_type": "markdown",
   "metadata": {},
   "source": [
    "## Autoender (AE)\n",
    "\n",
    "### Building and training AE-model"
   ]
  },
  {
   "cell_type": "code",
   "execution_count": null,
   "metadata": {},
   "outputs": [],
   "source": [
    "# NOTE Søren kode "
   ]
  },
  {
   "cell_type": "markdown",
   "metadata": {},
   "source": [
    "### AE-based classification"
   ]
  },
  {
   "cell_type": "markdown",
   "metadata": {},
   "source": [
    "## Variational autoencoder (VAE)\n",
    "\n",
    "### Building and training VAE-models"
   ]
  },
  {
   "cell_type": "code",
   "execution_count": 20,
   "metadata": {},
   "outputs": [],
   "source": [
    "# -- GENERAL SETUP OF VAE MODELS -- #\n",
    "\n",
    "# VAE class\n",
    "class VAE(tf.keras.Model):\n",
    "    def __init__(self, latent_dim, encoder, decoder):\n",
    "        super(VAE, self).__init__()\n",
    "        self.latent_dim = latent_dim\n",
    "        self.encoder = encoder\n",
    "        self.decoder = decoder\n",
    "\n",
    "    def encode(self, x):\n",
    "        params = self.encoder(x)\n",
    "        return tf.split(params, num_or_size_splits=2, axis=1) # mean, logvar\n",
    "\n",
    "    def decode(self, z):\n",
    "        return self.decoder(z)\n",
    "\n",
    "    def reparameterize(self, mean, logvar):\n",
    "        eps = tf.random.normal(shape=mean.shape)\n",
    "        return eps * tf.exp(logvar * 0.5) + mean\n",
    "\n",
    "    @tf.function\n",
    "    def sample(self, eps=None):\n",
    "        if eps is None:\n",
    "            eps = tf.random.normal(shape=(100, self.latent_dim)) \n",
    "        return tf.sigmoid(self.decode(eps))\n",
    "\n",
    "# Loss function  \n",
    "def log_normal_pdf(sample, mean, logvar, raxis=1):\n",
    "    log2pi = tf.math.log(2. * np.pi)\n",
    "    vals = -.5 * ((sample - mean) ** 2. * tf.exp(-logvar) + logvar + log2pi)\n",
    "\n",
    "    return tf.reduce_sum(vals, axis=raxis)\n",
    "\n",
    "def compute_loss(model, x):\n",
    "    mean, logvar = model.encode(x)\n",
    "    z = model.reparameterize(mean, logvar)\n",
    "    x_logit = model.decode(z)\n",
    "    cross_ent = tf.nn.sigmoid_cross_entropy_with_logits(logits=x_logit, labels=x)\n",
    "    logpx_z = -tf.reduce_sum(cross_ent, axis=[1, 2, 3])\n",
    "    logpz = log_normal_pdf(z, 0., 0.)\n",
    "    logqz_x = log_normal_pdf(z, mean, logvar)\n",
    "\n",
    "    return -tf.reduce_mean(logpx_z + logpz - logqz_x)\n",
    "\n",
    "# Training step \n",
    "@tf.function\n",
    "def train_step(model, x, optimizer):\n",
    "    with tf.GradientTape() as tape:\n",
    "        loss = compute_loss(model, x)\n",
    "\n",
    "    gradients = tape.gradient(loss, model.trainable_variables)\n",
    "    optimizer.apply_gradients(zip(gradients, model.trainable_variables))\n",
    "\n",
    "# Reconstruct and plot test/validation images \n",
    "def generate_and_show_images(model, epoch, test_sample):\n",
    "    mean, logvar = model.encode(test_sample)\n",
    "    z = model.reparameterize(mean, logvar)\n",
    "    predictions = model.sample(z)\n",
    "    fig = plt.figure(figsize=(4, 4))\n",
    "\n",
    "    for i in range(predictions.shape[0]):\n",
    "        plt.subplot(4, 4, i + 1)\n",
    "        plt.imshow(predictions[i])\n",
    "        plt.axis('off')\n",
    "\n",
    "    plt.show()\n",
    "\n",
    "# Setup optimizer \n",
    "optimizer = tf.keras.optimizers.legacy.Adam(1e-4)   # Use when run on M1/M2 \n",
    "#optimizer = tf.keras.optimizers.Adam(1e-4)          # Use otherwise \n",
    "\n",
    "# Sample for reconstrunction \n",
    "test_sample = next(iter(validation_images_a.take(1)))[:16]\n"
   ]
  },
  {
   "cell_type": "code",
   "execution_count": 16,
   "metadata": {},
   "outputs": [],
   "source": [
    "# -- VAE_16 MODEL -- #\n",
    "\n",
    "vae16_encoder = tf.keras.models.Sequential([\n",
    "    tf.keras.layers.Conv2D(64, kernel_size= 3, strides = 1, padding='same', activation='relu', input_shape=(96, 96, 3)),\n",
    "    tf.keras.layers.Conv2D(128, kernel_size=3, strides= 2, padding='same', activation='relu'),\n",
    "    tf.keras.layers.Conv2D(256, kernel_size=3, strides= 2, padding='same', activation='relu'),\n",
    "    tf.keras.layers.Flatten(),\n",
    "    tf.keras.layers.Dense(2 * 16), # latent dim = 16\n",
    "])\n",
    "\n",
    "vae16_decoder = tf.keras.models.Sequential([\n",
    "    tf.keras.layers.Dense(units=24*24*32, activation='relu', input_shape=(16,)),\n",
    "    tf.keras.layers.Reshape(target_shape= (24, 24, 32)),\n",
    "    tf.keras.layers.Conv2DTranspose(256, kernel_size = 3, strides= 2, padding='same', activation='relu'),\n",
    "    tf.keras.layers.Conv2DTranspose(128, kernel_size = 3, strides= 1, padding='same', activation='relu'),\n",
    "    tf.keras.layers.Conv2DTranspose(64, kernel_size = 3, strides= 1, padding='same', activation='relu'),\n",
    "    tf.keras.layers.Conv2DTranspose(32, kernel_size = 3, strides= 2, padding='same', activation='relu'),\n",
    "    tf.keras.layers.Conv2DTranspose(3,3, strides= 1, padding=\"same\", activation=\"sigmoid\")\n",
    "])\n",
    "\n",
    "#vae16_encoder.summary()\n",
    "#vae16_decoder.summary()\n",
    "\n",
    "vae16 = VAE(16, vae16_encoder, vae16_decoder)\n"
   ]
  },
  {
   "cell_type": "code",
   "execution_count": null,
   "metadata": {},
   "outputs": [],
   "source": [
    "# -- TRAINING OF VAE_16 MODEL -- #\n",
    "for epoch in range(30):\n",
    "    for train_x in train_images_a:\n",
    "        train_step(vae16, train_x, optimizer)\n",
    "\n",
    "    loss = tf.keras.metrics.Mean()\n",
    "    for test_x in test_images_a:\n",
    "        loss(compute_loss(vae16, test_x))\n",
    "    variational_lower_bound = -loss.result()\n",
    "\n",
    "    print(f'Epoch: {epoch+1}, Test set variational lower bound: {variational_lower_bound}')\n",
    "    generate_and_show_images(vae16, epoch, test_sample)"
   ]
  },
  {
   "cell_type": "code",
   "execution_count": 22,
   "metadata": {},
   "outputs": [],
   "source": [
    "# -- SAVE VAE_16 EN+DECODER WEIGHTS -- #\n",
    "#vae16_encoder.save_weights(wd+'saved_weights_VAE/VAE_16_encoder_weights.h5')\n",
    "#vae16_decoder.save_weights(wd+'saved_weights_VAE/VAE_16_decoder_weights.h5')"
   ]
  },
  {
   "cell_type": "code",
   "execution_count": 23,
   "metadata": {},
   "outputs": [],
   "source": [
    "# -- VAE_32 MODEL -- #\n",
    "\n",
    "vae32_encoder = tf.keras.models.Sequential([\n",
    "    tf.keras.layers.Conv2D(64, kernel_size= 3, strides = 1, padding='same', activation='relu', input_shape=(96, 96, 3)),\n",
    "    tf.keras.layers.Conv2D(128, kernel_size=3, strides= 2, padding='same', activation='relu'),\n",
    "    tf.keras.layers.Conv2D(256, kernel_size=3, strides= 2, padding='same', activation='relu'),\n",
    "    tf.keras.layers.Flatten(),\n",
    "    tf.keras.layers.Dense(2 * 32), # latent dim = 32\n",
    "])\n",
    "\n",
    "vae32_decoder = tf.keras.models.Sequential([\n",
    "    tf.keras.layers.Dense(units=24*24*32, activation='relu', input_shape=(32,)),\n",
    "    tf.keras.layers.Reshape(target_shape= (24, 24, 32)),\n",
    "    tf.keras.layers.Conv2DTranspose(256, kernel_size = 3, strides= 2, padding='same', activation='relu'),\n",
    "    tf.keras.layers.Conv2DTranspose(128, kernel_size = 3, strides= 1, padding='same', activation='relu'),\n",
    "    tf.keras.layers.Conv2DTranspose(64, kernel_size = 3, strides= 1, padding='same', activation='relu'),\n",
    "    tf.keras.layers.Conv2DTranspose(32, kernel_size = 3, strides= 2, padding='same', activation='relu'),\n",
    "    tf.keras.layers.Conv2DTranspose(3,3, strides= 1, padding=\"same\", activation=\"sigmoid\")\n",
    "])\n",
    "\n",
    "#vae32_encoder.summary()\n",
    "#vae32_decoder.summary()\n",
    "\n",
    "vae32 = VAE(32, vae32_encoder, vae32_decoder)\n"
   ]
  },
  {
   "cell_type": "code",
   "execution_count": null,
   "metadata": {},
   "outputs": [],
   "source": [
    "# -- TRAINING OF VAE_32 MODEL -- #\n",
    "for epoch in range(40):\n",
    "    for train_x in train_images_a:\n",
    "        train_step(vae32, train_x, optimizer)\n",
    "\n",
    "    loss = tf.keras.metrics.Mean()\n",
    "    for test_x in test_images_a:\n",
    "        loss(compute_loss(vae32, test_x))\n",
    "    variational_lower_bound = -loss.result()\n",
    "\n",
    "    print(f'Epoch: {epoch+1}, Test set variational lower bound: {variational_lower_bound}')\n",
    "    generate_and_show_images(vae32, epoch, test_sample)"
   ]
  },
  {
   "cell_type": "code",
   "execution_count": null,
   "metadata": {},
   "outputs": [],
   "source": [
    "# -- SAVE VAE_32 EN+DECODER WEIGHTS -- #\n",
    "#vae16_encoder.save_weights(wd+'saved_weights_VAE/VAE_32_encoder_weights.h5')\n",
    "#vae16_decoder.save_weights(wd+'saved_weights_VAE/VAE_32_decoder_weights.h5')"
   ]
  },
  {
   "cell_type": "code",
   "execution_count": null,
   "metadata": {},
   "outputs": [],
   "source": [
    "# -- FUNCTIONS FOR REPORT PLOTS -- # \n",
    "\n",
    "# Plot sample reconstruction \n",
    "def sample_VAE_reconstruction(model, idx = None):    \n",
    "    fig = plt.figure(figsize=(10,10))\n",
    "    \n",
    "    batch = next(iter(test_images_a))\n",
    "    if idx is None:\n",
    "        idx = random.randint(0,len(batch))\n",
    "    print(idx)\n",
    "    \n",
    "    original_img = batch[idx].numpy()\n",
    "    fig.add_subplot(1,2,1)\n",
    "    plt.imshow(original_img)\n",
    "    plt.axis('off')\n",
    "\n",
    "    original_img_reshaped = original_img.reshape((1,)+original_img.shape)\n",
    "    \n",
    "    mean, log_var = model.encode(original_img_reshaped)\n",
    "    z = model.reparameterize(mean, log_var)\n",
    "    reconstructed_img = model.sample(z)\n",
    "    reconstructed_img_reshaped = np.reshape(reconstructed_img, (96,96,3))\n",
    "    fig.add_subplot(1,2,2)\n",
    "    plt.imshow(reconstructed_img_reshaped)\n",
    "    plt.axis('off')\n",
    "\n",
    "\n",
    "# Plot sample VAE_16 reconstruction \n",
    "vae16_encoder.load_weights(wd+'saved_weights_VAE/VAE_16_encoder_weights.h5')\n",
    "vae16_decoder.load_weights(wd+'saved_weights_VAE/VAE_16_decoder_weights.h5')\n",
    "vae16_pre_trained = VAE(16, vae16_encoder, vae16_decoder)\n",
    "sample_VAE_reconstruction(vae16_pre_trained)"
   ]
  },
  {
   "cell_type": "markdown",
   "metadata": {},
   "source": [
    "### VAE-based classification"
   ]
  },
  {
   "cell_type": "code",
   "execution_count": 35,
   "metadata": {},
   "outputs": [],
   "source": [
    "# -- SET UP VAE-BASED CLASSIFIERS -- #\n",
    "\n",
    "# Freeze encoder parameters \n",
    "freeze_model_parameters(vae16_encoder)\n",
    "freeze_model_parameters(vae32_encoder)\n",
    "\n",
    "# Build classifiers \n",
    "\n",
    "# VAE_16 classifier \n",
    "vae16_classifier = tf.keras.models.Sequential([\n",
    "    vae16_encoder,\n",
    "    tf.keras.layers.Reshape((32,1)),\n",
    "    tf.keras.layers.Conv1D(filters=128, kernel_size=3, activation='relu'),\n",
    "    tf.keras.layers.Dropout(0.3),\n",
    "    tf.keras.layers.Conv1D(filters=64, kernel_size=3, activation='relu'),\n",
    "    tf.keras.layers.Dropout(0.2),\n",
    "    tf.keras.layers.Conv1D(filters=32, kernel_size=3, activation='relu'),\n",
    "    tf.keras.layers.Dropout(0.1),\n",
    "    tf.keras.layers.Flatten(),\n",
    "    tf.keras.layers.Dense(units=128, activation='relu'),\n",
    "    tf.keras.layers.Dense(units=2, activation='softmax')\n",
    "])\n",
    "\n",
    "# VAE_32 classifier \n",
    "vae32_classifier = tf.keras.models.Sequential([\n",
    "    vae32_encoder,\n",
    "    tf.keras.layers.Reshape((64,1)),\n",
    "    tf.keras.layers.Conv1D(filters=128, kernel_size=3, activation='relu'),\n",
    "    tf.keras.layers.Dropout(0.3),\n",
    "    tf.keras.layers.Conv1D(filters=64, kernel_size=3, activation='relu'),\n",
    "    tf.keras.layers.Dropout(0.2),\n",
    "    tf.keras.layers.Conv1D(filters=32, kernel_size=3, activation='relu'),\n",
    "    tf.keras.layers.Dropout(0.1),\n",
    "    tf.keras.layers.Flatten(),\n",
    "    tf.keras.layers.Dense(units=128, activation='relu'),\n",
    "    tf.keras.layers.Dense(units=2, activation='softmax')\n",
    "])\n",
    "\n",
    "#vae16_classifier.summary()\n",
    "#vae32_classifier.summary()"
   ]
  },
  {
   "cell_type": "code",
   "execution_count": 40,
   "metadata": {},
   "outputs": [],
   "source": [
    "# -- SET UP TRAINING CALLBACK AND COMPILE CLASSIFIERS -- #\n",
    "\n",
    "early_stopping_callback = tf.keras.callbacks.EarlyStopping(monitor='val_loss',\n",
    "                                                           patience = 3,\n",
    "                                                           restore_best_weights=True)\n",
    "\n",
    "vae16_classifier.compile(optimizer='adam',\n",
    "              loss='categorical_crossentropy',\n",
    "              metrics=['accuracy'])\n",
    "\n",
    "vae32_classifier.compile(optimizer='adam',\n",
    "              loss='categorical_crossentropy',\n",
    "              metrics=['accuracy'])"
   ]
  },
  {
   "cell_type": "code",
   "execution_count": null,
   "metadata": {},
   "outputs": [],
   "source": [
    "# -- TRAIN VAE_16 CLASSIFIER -- #\n",
    "\n",
    "vae_16_tr_hist = vae16_classifier.fit(train_data_b,\n",
    "                                    validation_data=validation_data_b,\n",
    "                                    epochs=30,\n",
    "                                    callbacks=[early_stopping_callback])\n",
    "\n",
    "vae16_classifier.save_weights(wd+'saved_weights_VAE/VAE_16_classifier_weights.h5')"
   ]
  },
  {
   "cell_type": "code",
   "execution_count": null,
   "metadata": {},
   "outputs": [],
   "source": [
    "# -- TRAIN VAE_32 CLASSIFIER -- #\n",
    "\n",
    "vae_32_tr_hist = vae32_classifier.fit(train_data_b,\n",
    "                                    validation_data=validation_data_b,\n",
    "                                    epochs=30,\n",
    "                                    callbacks=[early_stopping_callback])\n",
    "\n",
    "vae32_classifier.save_weights(wd+'saved_weights_VAE/VAE_32_classifier_weights.h5')"
   ]
  },
  {
   "cell_type": "code",
   "execution_count": null,
   "metadata": {},
   "outputs": [],
   "source": [
    "# -- EVALUATE CLASSIFIER AND PLOT TRAINING -- #\n",
    "\n",
    "vae16_classifier.evaluate(test_data_b)\n",
    "vae32_classifier.evaluate(test_data_b)\n",
    "\n",
    "plot_training_hist(vae_16_tr_hist)\n",
    "plot_training_hist(vae_32_tr_hist)"
   ]
  },
  {
   "cell_type": "markdown",
   "metadata": {},
   "source": [
    "## Transfer learning\n",
    "\n",
    "### EfficientNet"
   ]
  },
  {
   "cell_type": "code",
   "execution_count": null,
   "metadata": {},
   "outputs": [],
   "source": [
    "# NOTE Søren kode"
   ]
  },
  {
   "cell_type": "markdown",
   "metadata": {},
   "source": [
    "### ResNet50"
   ]
  },
  {
   "cell_type": "code",
   "execution_count": 41,
   "metadata": {},
   "outputs": [],
   "source": [
    "# -- SETUP RESNET50 -- #\n",
    "\n",
    "# Load w/o standard input-output layers \n",
    "pretrained_ResNet50 = ResNet50(weights='imagenet', \n",
    "                       include_top = False, \n",
    "                       input_shape=(96,96,3))"
   ]
  },
  {
   "cell_type": "code",
   "execution_count": 44,
   "metadata": {},
   "outputs": [],
   "source": [
    "# -- APPROACH 1 -- #\n",
    "# Freeze entire ResNet50 such that only fully connected part is trainable \n",
    "\n",
    "ResNet50_1 = pretrained_ResNet50\n",
    "freeze_model_parameters(ResNet50_1)\n",
    "\n",
    "# ResNet50_1.summary()\n",
    "\n",
    "PCam_ResNet50_1 = tf.keras.models.Sequential()\n",
    "PCam_ResNet50_1.add(ResNet50_1)\n",
    "\n",
    "# Add layers for binary classification \n",
    "PCam_ResNet50_1.add(tf.keras.layers.Flatten())\n",
    "PCam_ResNet50_1.add(tf.keras.layers.Dense(250, activation='relu')),\n",
    "PCam_ResNet50_1.add(tf.keras.layers.Dense(2, activation='softmax'))\n",
    "\n",
    "# PCam_ResNet50_1.summary()\n",
    "\n",
    "# Compile \n",
    "PCam_ResNet50_1.compile(optimizer='adam', \n",
    "                      loss = 'categorical_crossentropy', \n",
    "                      metrics=['accuracy'])"
   ]
  },
  {
   "cell_type": "code",
   "execution_count": 45,
   "metadata": {},
   "outputs": [],
   "source": [
    "# -- SET UP TRAINING CALLBACK -- #\n",
    "ResNet50_early_stopping_callback = tf.keras.callbacks.EarlyStopping(monitor='val_loss', \n",
    "                                                           patience=5,\n",
    "                                                           restore_best_weights=True)"
   ]
  },
  {
   "cell_type": "code",
   "execution_count": null,
   "metadata": {},
   "outputs": [],
   "source": [
    "# -- TRAIN PCam_ResNet50_1 -- #\n",
    "PCam_ResNet50_1_tr_hist = PCam_ResNet50_1.fit(train_data_b, \n",
    "                         validation_data=validation_data_b,\n",
    "                         epochs=50, \n",
    "                         callbacks=[early_stopping_callback])\n",
    "\n",
    "PCam_ResNet50_1.save_weights(wd+'ResNet50_weights/PCam_ResNet50_1_weights.h5')"
   ]
  },
  {
   "cell_type": "code",
   "execution_count": null,
   "metadata": {},
   "outputs": [],
   "source": [
    "# -- EVALUATE PCam_ResNet50_1 AND PLOT TRAINING -- #\n",
    "PCam_ResNet50_1.evaluate(test_data_b)\n",
    "\n",
    "plot_training_hist(PCam_ResNet50_1_tr_hist)"
   ]
  }
 ],
 "metadata": {
  "kernelspec": {
   "display_name": "amlfall23",
   "language": "python",
   "name": "python3"
  },
  "language_info": {
   "codemirror_mode": {
    "name": "ipython",
    "version": 3
   },
   "file_extension": ".py",
   "mimetype": "text/x-python",
   "name": "python",
   "nbconvert_exporter": "python",
   "pygments_lexer": "ipython3",
   "version": "3.10.13"
  }
 },
 "nbformat": 4,
 "nbformat_minor": 2
}
