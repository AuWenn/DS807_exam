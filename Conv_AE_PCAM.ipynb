{
 "cells": [
  {
   "cell_type": "markdown",
   "metadata": {},
   "source": [
    "# Convolutional autoencoder for classification Path Camelyon images \n"
   ]
  },
  {
   "cell_type": "code",
   "execution_count": null,
   "metadata": {},
   "outputs": [],
   "source": [
    "# Tensorflow \n",
    "import tensorflow_datasets as tfds \n",
    "import tensorflow as tf \n",
    "\n",
    "# Additional\n",
    "from matplotlib import pyplot as plt \n",
    "import numpy as np"
   ]
  },
  {
   "cell_type": "markdown",
   "metadata": {},
   "source": [
    "\n",
    "**Load data**\n",
    "\n",
    "50% of all three splits of PCAM-data is loaded. Where $D_1$ in used for training, $D_2$ for validation and $D_3$ for testing. Training data is divided in to two distinct subsets, i.e. $D_{1,a} \\subset D_1$ and $D_{1,b} \\subset D_1$ where $D_{1,a} \\cap D_{1,b} = \\empty$. $D_{1,a}$ is used to train the autoencoder that will compress images prior to classification. $D_{1,b}$ is used to train the classification model. $D_2$ and $D_3$ are divided in a similar fashion. "
   ]
  },
  {
   "cell_type": "code",
   "execution_count": null,
   "metadata": {},
   "outputs": [],
   "source": [
    "d1, d2, d3 = tfds.load('patch_camelyon', split=[f'train[:50%]',f'test[:50%]',f'validation[:50%]'],\n",
    "                          data_dir='./Data/PCAM', \n",
    "                          download=False, \n",
    "                          shuffle_files=True)\n",
    "\n"
   ]
  }
 ],
 "metadata": {
  "kernelspec": {
   "display_name": "amlfall23",
   "language": "python",
   "name": "python3"
  },
  "language_info": {
   "name": "python",
   "version": "3.10.13"
  }
 },
 "nbformat": 4,
 "nbformat_minor": 2
}
