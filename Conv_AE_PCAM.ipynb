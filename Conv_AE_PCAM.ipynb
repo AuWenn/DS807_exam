{
 "cells": [
  {
   "cell_type": "markdown",
   "metadata": {},
   "source": [
    "# Convolutional autoencoder for classification Path Camelyon images \n"
   ]
  },
  {
   "cell_type": "code",
   "execution_count": null,
   "metadata": {},
   "outputs": [],
   "source": [
    "# Tensorflow \n",
    "import tensorflow_datasets as tfds \n",
    "import tensorflow as tf \n",
    "\n",
    "# Additional\n",
    "from matplotlib import pyplot as plt \n",
    "import numpy as np"
   ]
  },
  {
   "cell_type": "markdown",
   "metadata": {},
   "source": [
    "\n",
    "**Load data**\n",
    "\n",
    "50% of all three splits of PCAM-data is loaded. Where $D_1$ in used for training, $D_2$ for validation and $D_3$ for testing. Training data is divided in to two distinct subsets, i.e. $D_{1,a} \\subset D_1$ and $D_{1,b} \\subset D_1$ where $D_{1,a} \\cap D_{1,b} = \\emptyset$. $D_{1,a}$ is used to train the autoencoder that will compress images prior to classification. $D_{1,b}$ is used to train the classification model. $D_2$ and $D_3$ are divided in a similar fashion. "
   ]
  },
  {
   "cell_type": "code",
   "execution_count": 3,
   "metadata": {},
   "outputs": [
    {
     "name": "stdout",
     "output_type": "stream",
     "text": [
      "Size of d1_a: 65536 - size of d1_b: 65536\n",
      "Size of d2_a: 8192 - size of d2_b: 8192\n",
      "Size of d3_a: 8192 - size of d3_b: 8192\n"
     ]
    }
   ],
   "source": [
    "d1, d2, d3 = tfds.load('patch_camelyon', split=[f'train[:50%]',f'test[:50%]',f'validation[:50%]'],\n",
    "                          data_dir='./Data/PCAM', \n",
    "                          download=False, \n",
    "                          shuffle_files=True)\n",
    "\n",
    "# Training data\n",
    "d1_a, d1_b = d1.take(len(d1)//2), d1.skip(len(d1)//2)\n",
    "\n",
    "# Test data \n",
    "d2_a, d2_b = d2.take(len(d2)//2), d2.skip(len(d2)//2)\n",
    "\n",
    "# Valditation data \n",
    "d3_a, d3_b = d3.take(len(d3)//2), d3.skip(len(d3)//2)\n",
    "\n",
    "print(f'Size of d1_a: {len(d1_a)} - size of d1_b: {len(d1_b)}')\n",
    "print(f'Size of d2_a: {len(d2_a)} - size of d2_b: {len(d2_b)}')\n",
    "print(f'Size of d3_a: {len(d3_a)} - size of d3_b: {len(d3_b)}')"
   ]
  }
 ],
 "metadata": {
  "kernelspec": {
   "display_name": "amlfall23",
   "language": "python",
   "name": "python3"
  },
  "language_info": {
   "codemirror_mode": {
    "name": "ipython",
    "version": 3
   },
   "file_extension": ".py",
   "mimetype": "text/x-python",
   "name": "python",
   "nbconvert_exporter": "python",
   "pygments_lexer": "ipython3",
   "version": "3.10.13"
  }
 },
 "nbformat": 4,
 "nbformat_minor": 2
}
